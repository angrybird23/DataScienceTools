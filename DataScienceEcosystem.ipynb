{
 "cells": [
  {
   "cell_type": "code",
   "execution_count": 2,
   "id": "57eea02b-3dae-4c51-a388-ed080ca18102",
   "metadata": {},
   "outputs": [],
   "source": [
    "# Create markdown cell with title of the notebook"
   ]
  },
  {
   "cell_type": "markdown",
   "id": "ef0c8212-92de-4755-b9c9-2eea1f1eaf8f",
   "metadata": {},
   "source": [
    "# Data Science Tools and Ecosystem"
   ]
  },
  {
   "cell_type": "markdown",
   "id": "e203c03e-4917-4c04-bbb8-51b9e8234049",
   "metadata": {},
   "source": [
    "In this notebook, data science tools and ecosystems are summarised"
   ]
  },
  {
   "cell_type": "markdown",
   "id": "4894a597-831e-446d-92bb-c319aaa5fe54",
   "metadata": {},
   "source": [
    "Objectives:\n",
    "- Popular languages in data science\n",
    "- Common libraries in data science\n",
    "- Arithmetic expressions in Python\n"
   ]
  },
  {
   "cell_type": "markdown",
   "id": "95468dbf-0c77-458a-a834-bd7a894fb688",
   "metadata": {},
   "source": [
    "Some of the most popular languages that Data scientists use are:\n",
    "1. Python\n",
    "2. R\n",
    "3. SQL"
   ]
  },
  {
   "cell_type": "markdown",
   "id": "e2cbdf6a-52ae-4828-a6f5-c002fb3e7be0",
   "metadata": {},
   "source": [
    "Some of the commonly used libraries used by Data Scientists include:\n",
    "1. Pandas\n",
    "2. SciKit\n",
    "3. Caret"
   ]
  },
  {
   "cell_type": "markdown",
   "id": "9787196e-e531-4f8a-b83b-885014e7b9e0",
   "metadata": {},
   "source": [
    "| Data Science Tools |\n",
    "| ------------------ |\n",
    "| JupyterLab |\n",
    "| Rstudio |\n",
    "| GitHub |"
   ]
  },
  {
   "cell_type": "markdown",
   "id": "ccb78ee4-3fad-4c48-a90a-024efd2e8c17",
   "metadata": {},
   "source": [
    "### Below are a few examples of evaluating arithmetic expressions in Python\n"
   ]
  },
  {
   "cell_type": "code",
   "execution_count": 6,
   "id": "06e13a4e-e7f7-4ae6-bda0-2424600c83f2",
   "metadata": {},
   "outputs": [
    {
     "data": {
      "text/plain": [
       "17"
      ]
     },
     "execution_count": 6,
     "metadata": {},
     "output_type": "execute_result"
    }
   ],
   "source": [
    "#This is a simple arithmetic expression to multiply and then add integers\n",
    "(3*4)+5"
   ]
  },
  {
   "cell_type": "code",
   "execution_count": 7,
   "id": "9d8215be-c12d-476d-a41c-d009f5baaa2e",
   "metadata": {},
   "outputs": [
    {
     "data": {
      "text/plain": [
       "3.3333333333333335"
      ]
     },
     "execution_count": 7,
     "metadata": {},
     "output_type": "execute_result"
    }
   ],
   "source": [
    "#This will convert 200 minutes to hours by dividing by 60\n",
    "200/60"
   ]
  },
  {
   "cell_type": "markdown",
   "id": "5812cbbc-bbc1-4b47-8cf2-5c9b55bc728d",
   "metadata": {},
   "source": [
    "## Author\n",
    "Vivaan Jogeshwar"
   ]
  },
  {
   "cell_type": "code",
   "execution_count": null,
   "id": "c33c469f-b844-43a0-a0dd-218c5aae51f5",
   "metadata": {},
   "outputs": [],
   "source": []
  }
 ],
 "metadata": {
  "kernelspec": {
   "display_name": "Python 3 (ipykernel)",
   "language": "python",
   "name": "python3"
  },
  "language_info": {
   "codemirror_mode": {
    "name": "ipython",
    "version": 3
   },
   "file_extension": ".py",
   "mimetype": "text/x-python",
   "name": "python",
   "nbconvert_exporter": "python",
   "pygments_lexer": "ipython3",
   "version": "3.12.7"
  }
 },
 "nbformat": 4,
 "nbformat_minor": 5
}
